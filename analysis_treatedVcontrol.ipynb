{
  "cells": [
    {
      "cell_type": "markdown",
      "metadata": {
        "id": "view-in-github",
        "colab_type": "text"
      },
      "source": [
        "<a href=\"https://colab.research.google.com/github/pip-alireza/MiceDeepAnalysis/blob/main/analysis_treatedVcontrol.ipynb\" target=\"_parent\"><img src=\"https://colab.research.google.com/assets/colab-badge.svg\" alt=\"Open In Colab\"/></a>"
      ]
    },
    {
      "cell_type": "code",
      "execution_count": null,
      "metadata": {
        "id": "l8B1fCn5vSM0"
      },
      "outputs": [],
      "source": [
        "import numpy as np\n",
        "import matplotlib.pyplot as plt\n",
        "import tifffile as tf\n",
        "import os\n",
        "import glob\n",
        "from natsort import natsorted\n",
        "import matplotlib.cm as cm  # Import colormap module\n",
        "\n",
        "# List of directory paths\n",
        "directory_paths = [\n",
        "    '309/ol',\n",
        "    '601/ol',\n",
        "    '313/ol',\n",
        "    # Add or modify other directory paths here\n",
        "]\n",
        "\n",
        "fig, ax = plt.subplots(figsize=(10, 6))  # Create a single figure\n",
        "cmap = cm.get_cmap('tab10', len(directory_paths))  # Get a colormap with distinct colors for each directory path\n",
        "legend_labels = []  # List to store legend labels\n",
        "\n",
        "for idx, directory_path in enumerate(directory_paths):\n",
        "    tif_file_paths = glob.glob(os.path.join(directory_path, '*.tif'))\n",
        "    tif_file_paths = natsorted(tif_file_paths)\n",
        "\n",
        "    # Initialize an empty list to store the sum of non-zero pixels for each file\n",
        "    all_sum_per_slice = []\n",
        "\n",
        "    # Loop through each .tiff file\n",
        "    for tif_file_path in tif_file_paths:\n",
        "        # Load the current .tiff file\n",
        "        tiff_data = tf.imread(tif_file_path)\n",
        "\n",
        "        # Initialize an empty list to store the sum of non-zero pixels per slice\n",
        "        sum_per_slice = []\n",
        "\n",
        "        # Loop through each image slice\n",
        "        for slice_data in tiff_data:\n",
        "            # Calculate the sum of non-zero pixels for the current slice\n",
        "            non_zero_sum = np.sum(slice_data > 0)\n",
        "            sum_per_slice.append(non_zero_sum)\n",
        "\n",
        "        # Append the sums for the current file to the overall list\n",
        "        all_sum_per_slice.append(sum_per_slice)\n",
        "\n",
        "    # Calculate the change in aortic calcification for each file\n",
        "    changes = []\n",
        "    for i in range(len(all_sum_per_slice) - 1):\n",
        "        first_plot = all_sum_per_slice[i]\n",
        "        last_plot = all_sum_per_slice[i + 1]\n",
        "        change = [last - first for first, last in zip(first_plot, last_plot)]\n",
        "        changes.append(change)\n",
        "\n",
        "    # Plot the changes in aortic calcification\n",
        "    for i, change in enumerate(changes):\n",
        "        label = f\"{os.path.basename(tif_file_paths[i])} to {os.path.basename(tif_file_paths[i + 1])}\"\n",
        "        line, = ax.plot(change, label=label)#, color=cmap(idx))\n",
        "\n",
        "    legend_labels.append(f\"Directory: {directory_path}\")\n",
        "\n",
        "# Customize the plot for better visualization\n",
        "ax.set_title('Changes in Aortic Calcification', fontsize=16)\n",
        "ax.set_xlabel('Slice Number', fontsize=14)\n",
        "ax.set_ylabel('Change in Aortic Calcification', fontsize=14)\n",
        "ax.grid(True)\n",
        "ax.legend(legend_labels, fontsize=12, loc='upper left')\n",
        "ax.tick_params(axis='both', which='major', labelsize=12)\n",
        "\n",
        "plt.show()"
      ]
    }
  ],
  "metadata": {
    "kernelspec": {
      "display_name": "tf",
      "language": "python",
      "name": "python3"
    },
    "language_info": {
      "codemirror_mode": {
        "name": "ipython",
        "version": 3
      },
      "file_extension": ".py",
      "mimetype": "text/x-python",
      "name": "python",
      "nbconvert_exporter": "python",
      "pygments_lexer": "ipython3",
      "version": "3.11.4"
    },
    "orig_nbformat": 4,
    "colab": {
      "provenance": [],
      "include_colab_link": true
    }
  },
  "nbformat": 4,
  "nbformat_minor": 0
}